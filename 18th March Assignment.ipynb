{
 "cells": [
  {
   "cell_type": "code",
   "execution_count": null,
   "id": "f549d4ca-150b-4bfd-8fa5-c9a68867fd2a",
   "metadata": {},
   "outputs": [],
   "source": [
    "## Question .1\n",
    "## Answer:-\n",
    "The filter method filters out the irrelevant feature and redundant columns from the model by using different metrics through ranking. \n",
    "The advantage of using filter methods is that it needs low computational time and does not overfit the data."
   ]
  },
  {
   "cell_type": "code",
   "execution_count": null,
   "id": "f4942c3a-e867-495b-9296-76f7ec304e90",
   "metadata": {},
   "outputs": [],
   "source": [
    "## Question.2\n",
    "## Answer:-\n",
    "The main differences between the filter and wrapper methods for feature selection are: Filter methods measure the relevance of features by \n",
    "their correlation with dependent variable while wrapper methods measure the usefulness of a subset of feature by actually training a model on it."
   ]
  },
  {
   "cell_type": "code",
   "execution_count": null,
   "id": "75188b36-8470-4ddf-8648-136869e9f0ff",
   "metadata": {},
   "outputs": [],
   "source": [
    "## Question.3\n",
    "## Answer:-\n",
    "Some examples of embedded methods include decision tree-based algorithms (e.g., decision tree, random forest, gradient boosting), and feature selection\n",
    "using regularization models (e.g., LASSO or elastic net)."
   ]
  },
  {
   "cell_type": "code",
   "execution_count": null,
   "id": "720a336a-8fcc-4ac4-b7d7-bcd9d9cd55b6",
   "metadata": {},
   "outputs": [],
   "source": [
    "## Question.4\n",
    "## Answer:-\n",
    "The filter method looks at individual features for identifying its relative importance. A feature may not be useful on its own but\n",
    "maybe an important influencer when combined with other features. Filter methods may miss such features."
   ]
  },
  {
   "cell_type": "code",
   "execution_count": null,
   "id": "b255168c-213a-4332-b392-c2234484f5e2",
   "metadata": {},
   "outputs": [],
   "source": [
    "## Question.5\n",
    "## Answer:-\n",
    "For large data you should use the Filter approaches because these approaches are rapid and for small size of data it is better to use Wrapper (KNN, SVM,...) approaches\n",
    "because they are slower than the Filter approaches. or you can combine the two approaches to have better results than the two approaches."
   ]
  },
  {
   "cell_type": "code",
   "execution_count": null,
   "id": "f0258022-f563-4221-ac43-0721bd4308d7",
   "metadata": {},
   "outputs": [],
   "source": [
    "## Questions.6\n",
    "## Answer:-\n",
    "Step 1: Problem Definition\n",
    "Step 2: Data Collection\n",
    "Step 3: Exploratory Data Analysis (EDA)\n",
    "Step 4: Feature Engineering\n",
    "Step 5: Train/Test Split\n",
    "Step 6: Model Evaluation Metrics Definition\n",
    "Step 7: Model Selection, Training, Prediction and Assessment\n",
    "Step 8: Hyperparameter Tuning/Model Improvement"
   ]
  }
 ],
 "metadata": {
  "kernelspec": {
   "display_name": "Python 3 (ipykernel)",
   "language": "python",
   "name": "python3"
  },
  "language_info": {
   "codemirror_mode": {
    "name": "ipython",
    "version": 3
   },
   "file_extension": ".py",
   "mimetype": "text/x-python",
   "name": "python",
   "nbconvert_exporter": "python",
   "pygments_lexer": "ipython3",
   "version": "3.10.8"
  }
 },
 "nbformat": 4,
 "nbformat_minor": 5
}
